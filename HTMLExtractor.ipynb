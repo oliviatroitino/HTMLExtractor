{
 "cells": [
  {
   "cell_type": "code",
   "execution_count": 9,
   "metadata": {},
   "outputs": [
    {
     "name": "stderr",
     "output_type": "stream",
     "text": [
      "[nltk_data] Downloading package stopwords to utils/nltk_data...\n",
      "[nltk_data]   Package stopwords is already up-to-date!\n"
     ]
    }
   ],
   "source": [
    "from bs4 import BeautifulSoup\n",
    "import requests\n",
    "import os\n",
    "import shutil # zip\n",
    "import re\n",
    "import nltk\n",
    "from gensim import corpora\n",
    "from gensim.utils import simple_preprocess\n",
    "nltk.download('stopwords', download_dir='utils/nltk_data') # TODO verificar que existe el folder\n",
    "from nltk.corpus import stopwords\n",
    "from gensim.models.ldamodel import LdaModel\n",
    "from gensim.models import CoherenceModel\n",
    "import matplotlib.pyplot as plt\n"
   ]
  },
  {
   "cell_type": "code",
   "execution_count": 2,
   "metadata": {},
   "outputs": [
    {
     "name": "stdout",
     "output_type": "stream",
     "text": [
      "Topic: Culture\n",
      "Topic: Geography\n",
      "Topic: Health\n",
      "Topic: History\n",
      "Topic: Technology\n"
     ]
    }
   ],
   "source": [
    "# TODO modificar para evitar errores\n",
    "wikipedia_links = []\n",
    "file_path = \"WikiURLs.txt\"\n",
    "with open(file_path, \"r\", encoding='utf-8') as file:\n",
    "    for line in file:\n",
    "        line = line.strip()\n",
    "        if \"wikipedia.org\" in line:\n",
    "            wikipedia_links.append(line)\n",
    "        elif len(line) > 0:\n",
    "            print(f\"Topic: {line}\")"
   ]
  },
  {
   "cell_type": "code",
   "execution_count": 3,
   "metadata": {},
   "outputs": [
    {
     "name": "stdout",
     "output_type": "stream",
     "text": [
      "Data saved to HTMLResults/Art.txt\n",
      "Data saved to HTMLResults/Music.txt\n",
      "Data saved to HTMLResults/Literature.txt\n",
      "Data saved to HTMLResults/Dance.txt\n",
      "Data saved to HTMLResults/Film.txt\n",
      "Data saved to HTMLResults/Theatre.txt\n",
      "Data saved to HTMLResults/Cuisine.txt\n",
      "Data saved to HTMLResults/Fashion.txt\n",
      "Data saved to HTMLResults/Architecture.txt\n",
      "Data saved to HTMLResults/Photography.txt\n",
      "Data saved to HTMLResults/Earth.txt\n",
      "Data saved to HTMLResults/Continent.txt\n",
      "Data saved to HTMLResults/Country.txt\n",
      "Data saved to HTMLResults/Mountain.txt\n",
      "Data saved to HTMLResults/River.txt\n",
      "Data saved to HTMLResults/Desert.txt\n",
      "Data saved to HTMLResults/Ocean.txt\n",
      "Data saved to HTMLResults/Climate.txt\n",
      "Data saved to HTMLResults/Ecosystem.txt\n",
      "Data saved to HTMLResults/Map.txt\n",
      "Data saved to HTMLResults/Medicine.txt\n",
      "Data saved to HTMLResults/Nutrition.txt\n",
      "Data saved to HTMLResults/Physical exercise.txt\n",
      "Data saved to HTMLResults/Mental health.txt\n",
      "Data saved to HTMLResults/Disease.txt\n",
      "Data saved to HTMLResults/Vaccination.txt\n",
      "Data saved to HTMLResults/Public health.txt\n",
      "Data saved to HTMLResults/Surgery.txt\n",
      "Data saved to HTMLResults/Pharmacy.txt\n",
      "Data saved to HTMLResults/Health care.txt\n",
      "Data saved to HTMLResults/History.txt\n",
      "Data saved to HTMLResults/Ancient history.txt\n",
      "Data saved to HTMLResults/Middle Ages.txt\n",
      "Data saved to HTMLResults/Renaissance.txt\n",
      "Data saved to HTMLResults/Industrial Revolution.txt\n",
      "Data saved to HTMLResults/World War I.txt\n",
      "Data saved to HTMLResults/World War II.txt\n",
      "Data saved to HTMLResults/Cold War.txt\n",
      "Data saved to HTMLResults/Civil rights movement.txt\n",
      "Data saved to HTMLResults/Digital Revolution.txt\n",
      "Data saved to HTMLResults/Technology.txt\n",
      "Data saved to HTMLResults/Internet.txt\n",
      "Data saved to HTMLResults/Artificial intelligence.txt\n",
      "Data saved to HTMLResults/Computer science.txt\n",
      "Data saved to HTMLResults/Software.txt\n",
      "Data saved to HTMLResults/Computer hardware.txt\n",
      "Data saved to HTMLResults/Robotics.txt\n",
      "Data saved to HTMLResults/Computer security.txt\n",
      "Data saved to HTMLResults/Nanotechnology.txt\n",
      "Data saved to HTMLResults/Renewable energy.txt\n"
     ]
    }
   ],
   "source": [
    "for link in wikipedia_links:\n",
    "    res = requests.get(link)\n",
    "    soup = BeautifulSoup(res.text, 'html.parser')\n",
    "\n",
    "    output_dir = \"HTMLResults/\" + link.split(\"/wiki/\")[-1].replace(\"_\", \" \") + \".txt\"\n",
    "    os.makedirs(os.path.dirname(output_dir), exist_ok=True)\n",
    "    with open(output_dir, \"w\", encoding='utf-8') as file:\n",
    "        file.write(soup.prettify())\n",
    "\n",
    "    print(f\"Data saved to {output_dir}\")"
   ]
  },
  {
   "cell_type": "code",
   "execution_count": 4,
   "metadata": {},
   "outputs": [
    {
     "name": "stdout",
     "output_type": "stream",
     "text": [
      "Data saved to TextExtractionResults/Map.txt\n",
      "Data saved to TextExtractionResults/Renaissance.txt\n",
      "Data saved to TextExtractionResults/Artificial intelligence.txt\n",
      "Data saved to TextExtractionResults/Country.txt\n",
      "Data saved to TextExtractionResults/Music.txt\n",
      "Data saved to TextExtractionResults/Computer science.txt\n",
      "Data saved to TextExtractionResults/Vaccination.txt\n",
      "Data saved to TextExtractionResults/Medicine.txt\n",
      "Data saved to TextExtractionResults/Nanotechnology.txt\n",
      "Data saved to TextExtractionResults/Photography.txt\n",
      "Data saved to TextExtractionResults/Earth.txt\n",
      "Data saved to TextExtractionResults/Cuisine.txt\n",
      "Data saved to TextExtractionResults/Desert.txt\n",
      "Data saved to TextExtractionResults/Dance.txt\n",
      "Data saved to TextExtractionResults/Internet.txt\n",
      "Data saved to TextExtractionResults/Theatre.txt\n",
      "Data saved to TextExtractionResults/Disease.txt\n",
      "Data saved to TextExtractionResults/Public health.txt\n",
      "Data saved to TextExtractionResults/Continent.txt\n",
      "Data saved to TextExtractionResults/Climate.txt\n",
      "Data saved to TextExtractionResults/River.txt\n",
      "Data saved to TextExtractionResults/Digital Revolution.txt\n",
      "Data saved to TextExtractionResults/Fashion.txt\n",
      "Data saved to TextExtractionResults/Civil rights movement.txt\n",
      "Data saved to TextExtractionResults/Physical exercise.txt\n",
      "Data saved to TextExtractionResults/Middle Ages.txt\n",
      "Data saved to TextExtractionResults/Pharmacy.txt\n",
      "Data saved to TextExtractionResults/Ocean.txt\n",
      "Data saved to TextExtractionResults/Art.txt\n",
      "Data saved to TextExtractionResults/Nutrition.txt\n",
      "Data saved to TextExtractionResults/Health care.txt\n",
      "Data saved to TextExtractionResults/Renewable energy.txt\n",
      "Data saved to TextExtractionResults/Mental health.txt\n",
      "Data saved to TextExtractionResults/Industrial Revolution.txt\n",
      "Data saved to TextExtractionResults/Cold War.txt\n",
      "Data saved to TextExtractionResults/Architecture.txt\n",
      "Data saved to TextExtractionResults/Software.txt\n",
      "Data saved to TextExtractionResults/Robotics.txt\n",
      "Data saved to TextExtractionResults/Surgery.txt\n",
      "Data saved to TextExtractionResults/World War II.txt\n",
      "Data saved to TextExtractionResults/History.txt\n",
      "Data saved to TextExtractionResults/Technology.txt\n",
      "Data saved to TextExtractionResults/Film.txt\n",
      "Data saved to TextExtractionResults/Computer security.txt\n",
      "Data saved to TextExtractionResults/World War I.txt\n",
      "Data saved to TextExtractionResults/Mountain.txt\n",
      "Data saved to TextExtractionResults/Literature.txt\n",
      "Data saved to TextExtractionResults/Ancient history.txt\n",
      "Data saved to TextExtractionResults/Computer hardware.txt\n",
      "Data saved to TextExtractionResults/Ecosystem.txt\n"
     ]
    }
   ],
   "source": [
    "input_dir = \"HTMLResults\"\n",
    "output_dir = \"TextExtractionResults\"\n",
    "\n",
    "for filename in os.listdir(input_dir):\n",
    "    input_file_path = os.path.join(input_dir, filename)\n",
    "    os.makedirs(output_dir, exist_ok=True)\n",
    "    with open(input_file_path, \"r\", encoding='utf-8') as file:\n",
    "        soup = BeautifulSoup(file, 'html.parser')\n",
    "\n",
    "    headings = [heading.get_text(strip=True, separator=\" \") for heading in soup.find_all([\"h1\", \"h2\", \"h3\", \"h4\", \"h5\", \"h6\"])]\n",
    "    paragraphs = [p.get_text(strip=True, separator=\" \") for p in soup.find_all(\"p\")]\n",
    "\n",
    "    output_content = \"\\n\".join(headings) + \"\\n\\n\" + \"\\n\".join(paragraphs)\n",
    "    output_file_path = os.path.join(output_dir, filename)\n",
    "    with open(output_file_path, \"w\", encoding='utf-8') as file:\n",
    "        file.write(output_content)\n",
    "    print(f\"Data saved to {output_file_path}\")"
   ]
  },
  {
   "cell_type": "code",
   "execution_count": 5,
   "metadata": {},
   "outputs": [
    {
     "name": "stdout",
     "output_type": "stream",
     "text": [
      "Zip file created: HTMLExtractionResults.zip, TextExtractionResults.zip\n"
     ]
    }
   ],
   "source": [
    "html_zip_file_path = \"HTMLExtractionResults.zip\"\n",
    "text_zip_file_path = \"TextExtractionResults.zip\"\n",
    "shutil.make_archive(\"HTMLExtractionResults\", 'zip', output_dir)\n",
    "shutil.make_archive(\"TextExtractionResults\", 'zip', output_dir)\n",
    "print(f\"Zip file created: {html_zip_file_path}, {text_zip_file_path}\")"
   ]
  },
  {
   "cell_type": "code",
   "execution_count": 6,
   "metadata": {},
   "outputs": [],
   "source": [
    "nltk.data.path.append('utils/nltk_data')\n",
    "from nltk.corpus import stopwords\n",
    "stop_words = set(stopwords.words('english'))\n",
    "input_dir = \"TextExtractionResults\"\n",
    "\n",
    "documents = []\n",
    "\n",
    "def preprocess_text(text):\n",
    "            text = text.lower()\n",
    "            text = re.sub(r'[\\W_]+', ' ', text)\n",
    "            tokens = simple_preprocess(text, deacc=False)\n",
    "            tokens = [word for word in tokens if word not in stop_words and len(word) > 2]\n",
    "            return tokens\n",
    "\n",
    "for filename in os.listdir(input_dir):\n",
    "    input_file_path = os.path.join(input_dir, filename)\n",
    "\n",
    "    with open(input_file_path, \"r\", encoding='utf-8') as input_file:\n",
    "        text = input_file.readlines()\n",
    "\n",
    "        for line in text:\n",
    "            line = line.strip()\n",
    "            if line:\n",
    "                tokens = preprocess_text(line)\n",
    "                if tokens:\n",
    "                    documents.append(tokens)\n",
    "\n",
    "if not documents:\n",
    "    print(f\"No valid documents found\")\n",
    "else:\n",
    "    dictionary = corpora.Dictionary(documents)\n",
    "    corpus_bow = [dictionary.doc2bow(doc) for doc in documents]\n",
    "\n"
   ]
  },
  {
   "cell_type": "code",
   "execution_count": 7,
   "metadata": {},
   "outputs": [],
   "source": [
    "num_topics = 5\n",
    "lda_model = LdaModel(\n",
    "    corpus=corpus_bow,\n",
    "    id2word=dictionary,\n",
    "    num_topics=num_topics,\n",
    "    random_state=42,\n",
    "    passes=10,\n",
    "    update_every=1,\n",
    "    chunksize=100,\n",
    "    alpha='auto',\n",
    "    per_word_topics=True\n",
    ")"
   ]
  },
  {
   "cell_type": "code",
   "execution_count": 8,
   "metadata": {},
   "outputs": [
    {
     "name": "stdout",
     "output_type": "stream",
     "text": [
      "Coherencia: 0.46617730358972126\n",
      "Topic #0: ['ecosystem', 'ecosystems', 'water', 'energy', 'plants']\n",
      "Topic #1: ['computer', 'system', 'security', 'systems', 'technology']\n",
      "Topic #2: ['also', 'film', 'may', 'known', 'often']\n",
      "Topic #3: ['soviet', 'united', 'states', 'government', 'attack']\n",
      "Topic #4: ['war', 'german', 'century', 'first', 'germany']\n"
     ]
    },
    {
     "data": {
      "text/plain": [
       "[(0,\n",
       "  '0.026*\"ecosystem\" + 0.016*\"ecosystems\" + 0.010*\"water\" + 0.010*\"energy\" + 0.009*\"plants\" + 0.008*\"mountains\" + 0.007*\"nitrogen\" + 0.007*\"mountain\" + 0.007*\"iron\" + 0.007*\"animals\"'),\n",
       " (1,\n",
       "  '0.018*\"computer\" + 0.013*\"system\" + 0.012*\"security\" + 0.010*\"systems\" + 0.008*\"technology\" + 0.007*\"data\" + 0.006*\"use\" + 0.006*\"information\" + 0.006*\"support\" + 0.006*\"access\"'),\n",
       " (2,\n",
       "  '0.013*\"also\" + 0.011*\"film\" + 0.009*\"may\" + 0.009*\"known\" + 0.008*\"often\" + 0.007*\"human\" + 0.007*\"used\" + 0.007*\"time\" + 0.007*\"include\" + 0.006*\"production\"'),\n",
       " (3,\n",
       "  '0.016*\"soviet\" + 0.015*\"united\" + 0.011*\"states\" + 0.010*\"government\" + 0.009*\"attack\" + 0.009*\"union\" + 0.007*\"troops\" + 0.006*\"law\" + 0.006*\"russia\" + 0.006*\"august\"'),\n",
       " (4,\n",
       "  '0.014*\"war\" + 0.007*\"german\" + 0.007*\"century\" + 0.007*\"first\" + 0.006*\"germany\" + 0.006*\"around\" + 0.006*\"empire\" + 0.006*\"world\" + 0.005*\"new\" + 0.005*\"literature\"')]"
      ]
     },
     "metadata": {},
     "output_type": "display_data"
    }
   ],
   "source": [
    "\n",
    "coherence_model_lda = CoherenceModel(\n",
    "    model=lda_model,\n",
    "    texts=documents,\n",
    "    dictionary=dictionary,\n",
    "    coherence='c_v'\n",
    ")\n",
    "coherence_score = coherence_model_lda.get_coherence()\n",
    "print(f\"Coherencia: {coherence_score}\")\n",
    "\n",
    "\n",
    "for idx, topic in lda_model.show_topics(formatted=False, num_words=5):\n",
    "    print(f\"Topic #{idx}: {[w for w, _ in topic]}\")\n",
    "\n",
    "display(lda_model.print_topics())"
   ]
  },
  {
   "cell_type": "code",
   "execution_count": 10,
   "metadata": {},
   "outputs": [
    {
     "data": {
      "image/png": "[encoded data removed]",
      "text/plain": [
       "<Figure size 1000x600 with 1 Axes>"
      ]
     },
     "metadata": {},
     "output_type": "display_data"
    }
   ],
   "source": [
    "k_values = range(1, 10)\n",
    "coherence_scores = []\n",
    "\n",
    "for k in k_values:\n",
    "    lda_model = LdaModel(\n",
    "        corpus=corpus_bow,\n",
    "        id2word=dictionary,\n",
    "        num_topics=k,\n",
    "        random_state=42,\n",
    "        passes=10,\n",
    "        update_every=1,\n",
    "        chunksize=100,\n",
    "        alpha='auto',\n",
    "        per_word_topics=True\n",
    "    )\n",
    "    coherence_model_lda = CoherenceModel(\n",
    "        model=lda_model,\n",
    "        texts=documents,\n",
    "        dictionary=dictionary,\n",
    "        coherence='c_v'\n",
    "    )\n",
    "    coherence_score = coherence_model_lda.get_coherence()\n",
    "    coherence_scores.append(coherence_score)\n",
    "\n",
    "plt.figure(figsize=(10, 6))\n",
    "plt.plot(k_values, coherence_scores, marker='o')\n",
    "plt.xlabel(\"Número de Tópicos (K)\")\n",
    "plt.ylabel(\"Coherencia (c_v)\")\n",
    "plt.title(\"Variación de la Coherencia en función de K\")\n",
    "plt.xticks(k_values)\n",
    "plt.grid(True)\n",
    "plt.show()"
   ]
  }
 ],
 "metadata": {
  "kernelspec": {
   "display_name": "Python 3",
   "language": "python",
   "name": "python3"
  },
  "language_info": {
   "codemirror_mode": {
    "name": "ipython",
    "version": 3
   },
   "file_extension": ".py",
   "mimetype": "text/x-python",
   "name": "python",
   "nbconvert_exporter": "python",
   "pygments_lexer": "ipython3",
   "version": "3.12.6"
  }
 },
 "nbformat": 4,
 "nbformat_minor": 2
}
